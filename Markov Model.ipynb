{
 "cells": [
  {
   "cell_type": "code",
   "execution_count": 4,
   "id": "cf63400a",
   "metadata": {},
   "outputs": [
    {
     "name": "stdout",
     "output_type": "stream",
     "text": [
      "Enter the number of states: 3\n",
      "Enter the transition matrix (each row should sum to 1):\n",
      "Enter transition probabilities for state 1: 0.2 0.3 0.5\n",
      "Enter transition probabilities for state 2: 0.7 0.1 0.2\n",
      "Enter transition probabilities for state 3: 0.3 0.5 0.2\n",
      "Stationary State Vector:\n",
      "[0.38271605 0.30246914 0.31481481]\n"
     ]
    }
   ],
   "source": [
    "import numpy as np\n",
    "\n",
    "# At first, we need to define a function that uses the transition matrix as an input\n",
    "# The function calculates the stationary porbibilities\n",
    "\n",
    "def calculate_stationary_state(transition_matrix):\n",
    "    # Check if the transition matrix is valid (rows sum to 1)\n",
    "    if not np.all(np.isclose(np.sum(transition_matrix.real, axis=1), 1)):\n",
    "        return \"Transition matrix is not valid. Rows must sum to 1.\"\n",
    "    else:\n",
    "        # Calculate the stationary state vector using eigenvalue decomposition\n",
    "        eigenvalues, eigenvectors = np.linalg.eig(transition_matrix.T.conj())\n",
    "        stationary_state_vector = eigenvectors[:, 0].real / np.sum(eigenvectors[:, 0].real)\n",
    "        return stationary_state_vector\n",
    "\n",
    "# Input: Number of states\n",
    "num_states = int(input(\"Enter the number of states: \"))\n",
    "\n",
    "# Input: Transition matrix\n",
    "print(\"Enter the transition matrix (each row should sum to 1):\")\n",
    "transition_matrix = np.empty((num_states, num_states), dtype=complex)\n",
    "for i in range(num_states):\n",
    "    row = [complex(x) for x in input(f\"Enter transition probabilities for state {i + 1}: \").split()]\n",
    "    transition_matrix[i, :] = row\n",
    "\n",
    "# Calculate stationary state vector\n",
    "stationary_state = calculate_stationary_state(transition_matrix)\n",
    "\n",
    "# Output: Print the stationary state vector\n",
    "print(\"Stationary State Vector:\")\n",
    "print(stationary_state)"
   ]
  },
  {
   "cell_type": "code",
   "execution_count": null,
   "id": "7aff83f0",
   "metadata": {},
   "outputs": [],
   "source": []
  }
 ],
 "metadata": {
  "kernelspec": {
   "display_name": "Python 3 (ipykernel)",
   "language": "python",
   "name": "python3"
  },
  "language_info": {
   "codemirror_mode": {
    "name": "ipython",
    "version": 3
   },
   "file_extension": ".py",
   "mimetype": "text/x-python",
   "name": "python",
   "nbconvert_exporter": "python",
   "pygments_lexer": "ipython3",
   "version": "3.11.5"
  }
 },
 "nbformat": 4,
 "nbformat_minor": 5
}
